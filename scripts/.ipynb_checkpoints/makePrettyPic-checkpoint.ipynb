{
 "cells": [
  {
   "cell_type": "markdown",
   "metadata": {
    "ein.tags": "worksheet-0",
    "slideshow": {
     "slide_type": "-"
    }
   },
   "source": [
    "Create background image from ESO.\n",
    "Data from:\n",
    "http://archive.eso.org/cms/eso-data/data-packages/30-doradus.html"
   ]
  },
  {
   "cell_type": "code",
   "execution_count": 13,
   "metadata": {
    "autoscroll": false,
    "collapsed": false,
    "ein.tags": "worksheet-0",
    "slideshow": {
     "slide_type": "-"
    }
   },
   "outputs": [],
   "source": [
    "import numpy as np\n",
    "import math\n",
    "import matplotlib.pyplot as plt\n",
    "import matplotlib as mpl\n",
    "%matplotlib inline\n",
    "import sys\n",
    "import os\n",
    "sys.path.insert(0, '/scratch/mathieu/MMPS/SCRIPTS_dirty/')\n",
    "sys.path.insert(0, '/scratch/mathieu/MMPS/SCRIPTS_dirty/my_script/binaries/binary_c/')\n",
    "sys.path.append(os.path.abspath('/scratch/mathieu/Montage/bin/'))\n",
    "import math\n",
    "from matplotlib.ticker import MultipleLocator, FormatStrFormatter, FuncFormatter, MaxNLocator\n",
    "import matplotlib.gridspec as gridspec\n",
    "import matplotlib.patches as mpatch\n",
    "from plot_defaults import *\n",
    "from clean_data import *\n",
    "from File_reader import reader\n",
    "from termcolor import colored\n",
    "from mpl_toolkits.axes_grid1.inset_locator import inset_axes, zoomed_inset_axes\n",
    "from mpl_toolkits.axes_grid1.inset_locator import mark_inset\n",
    "import aplpy\n"
   ]
  },
  {
   "cell_type": "code",
   "execution_count": 14,
   "metadata": {
    "autoscroll": false,
    "collapsed": false,
    "ein.tags": "worksheet-0",
    "slideshow": {
     "slide_type": "-"
    }
   },
   "outputs": [],
   "source": [
    "root = '/scratch/mathieu/MMPS/SCRIPTS_dirty/my_script/binaries/binary_c/30Dor/vfts682/figures/ESO_field/'\n",
    "fitsFileHa = root+'ADP_WFI_30DOR1_Halpha7_V1.0.fits' \n",
    "fitsFileV  = root+'ADP_WFI_30DOR1_V89_V1.0.fits'\n",
    "fitsFileB  = root+'ADP_WFI_30DOR1_B123_V1.0.fits'\n",
    "fitsFileO  = root+'ADP_WFI_30DOR1_OIII8_V1.0.fits'\n",
    "\n"
   ]
  },
  {
   "cell_type": "code",
   "execution_count": 15,
   "metadata": {
    "autoscroll": false,
    "collapsed": false,
    "ein.tags": "worksheet-0",
    "slideshow": {
     "slide_type": "-"
    }
   },
   "outputs": [],
   "source": [
    "RAvfts682   = 84.73136339876477\n",
    "e_RAvfts682 = 0.036321212008208974\n",
    "DEvfts682   = -69.07411071794998\n",
    "e_RAvfts682 = 0.04825647078875183"
   ]
  },
  {
   "cell_type": "code",
   "execution_count": 16,
   "metadata": {
    "autoscroll": false,
    "collapsed": false,
    "ein.tags": "worksheet-0",
    "slideshow": {
     "slide_type": "-"
    }
   },
   "outputs": [
    {
     "name": "stdout",
     "output_type": "stream",
     "text": [
      "\n",
      "    ERROR: Montage commands could not be found.\n",
      "\n",
      "    In order to use the montage_wrapper module, you will first need to\n",
      "    install the IPAC Montage software from:\n",
      "\n",
      "        http://montage.ipac.caltech.edu\n",
      "\n",
      "    and ensure that the Montage commands (e.g. mAdd, mProject, etc.) are in\n",
      "    your $PATH. Your current $PATH variable contains the following paths,\n",
      "    but none of them contain the Montage commands:\n",
      "\n",
      "        PATH = /scratch/mathieu/venv/bin:/usr/local/sbin:/usr/local/bin:/usr\n",
      "           /sbin:/usr/bin:/sbin:/bin:/usr/games:/usr/local/games:/scratc\n",
      "           h/mathieu/anaconda2/lib/python2.7/site-packages/numpy/.libs\n",
      "\n",
      "    If the Montage commands are in one of these directories, then please\n",
      "    report this as an issue with montage-wrapper.\n",
      "    \n"
     ]
    },
    {
     "ename": "SystemExit",
     "evalue": "1",
     "output_type": "error",
     "traceback": [
      "An exception has occurred, use %tb to see the full traceback.\n",
      "\u001b[1;31mSystemExit\u001b[0m\u001b[1;31m:\u001b[0m 1\n"
     ]
    },
    {
     "name": "stderr",
     "output_type": "stream",
     "text": [
      "To exit: use 'exit', 'quit', or Ctrl-D.\n"
     ]
    },
    {
     "ename": "SystemExit",
     "evalue": "1",
     "output_type": "error",
     "traceback": [
      "An exception has occurred, use %tb to see the full traceback.\n",
      "\u001b[1;31mSystemExit\u001b[0m\u001b[1;31m:\u001b[0m 1\n"
     ]
    }
   ],
   "source": [
    "outfile = root+'/colored.fits'\n",
    "aplpy.make_rgb_cube([fitsFileHa,\n",
    "                     fitsFileV, \n",
    "                     fitsFileB, \n",
    "                     fitsFileO,                     \n",
    "                     ], outfile)\n",
    "\n"
   ]
  },
  {
   "cell_type": "code",
   "execution_count": 11,
   "metadata": {
    "autoscroll": false,
    "collapsed": false,
    "ein.tags": "worksheet-0",
    "slideshow": {
     "slide_type": "-"
    }
   },
   "outputs": [
    {
     "name": "stdout",
     "output_type": "stream",
     "text": [
      "['/scratch/mathieu/Montage/bin/', '/scratch/mathieu/MMPS/SCRIPTS_dirty/my_script/binaries/binary_c/', '/scratch/mathieu/MMPS/SCRIPTS_dirty/', '/scratch/mathieu/MMPS/SCRIPTS_dirty/my_script/binaries/binary_c/', '/scratch/mathieu/MMPS/SCRIPTS_dirty/', '', '/scratch/mathieu/venv/lib/python2.7/site-packages', '', '/scratch/mathieu/anaconda2/lib/python2.7/site-packages/mesaPlot-0.0-py2.7.egg', '/scratch/mathieu/anaconda2/lib/python27.zip', '/scratch/mathieu/anaconda2/lib/python2.7', '/scratch/mathieu/anaconda2/lib/python2.7/plat-linux2', '/scratch/mathieu/anaconda2/lib/python2.7/lib-tk', '/scratch/mathieu/anaconda2/lib/python2.7/lib-old', '/scratch/mathieu/anaconda2/lib/python2.7/lib-dynload', '/home/mathieu/.local/lib/python2.7/site-packages', '/scratch/mathieu/anaconda2/lib/python2.7/site-packages/Sphinx-1.3.5-py2.7.egg', '/scratch/mathieu/anaconda2/lib/python2.7/site-packages/setuptools-20.3-py2.7.egg', '/scratch/mathieu/anaconda2/lib/python2.7/site-packages', '/scratch/mathieu/anaconda2/lib/python2.7/site-packages/IPython/extensions', '/home/mathieu/.ipython', '/home/math/.emacs.d/elpa/ein-20171128.516/']\n"
     ]
    }
   ],
   "source": [
    "print(sys.path)"
   ]
  }
 ],
 "metadata": {
  "kernelspec": {
   "display_name": "Python 2",
   "name": "python2"
  },
  "language_info": {
   "codemirror_mode": {
    "name": "ipython",
    "version": 2
   },
   "file_extension": ".py",
   "mimetype": "text/x-python",
   "name": "python",
   "nbconvert_exporter": "python",
   "pygments_lexer": "ipython2",
   "version": "2.7.14"
  },
  "name": "makePrettyPic.ipynb"
 },
 "nbformat": 4,
 "nbformat_minor": 2
}
