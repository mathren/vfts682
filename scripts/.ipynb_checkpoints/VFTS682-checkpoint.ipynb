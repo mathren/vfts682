{
 "cells": [
  {
   "cell_type": "markdown",
   "metadata": {
    "ein.tags": "worksheet-0",
    "slideshow": {
     "slide_type": "-"
    }
   },
   "source": [
    "Play with VFTS 682"
   ]
  },
  {
   "cell_type": "markdown",
   "metadata": {
    "ein.tags": "worksheet-0",
    "slideshow": {
     "slide_type": "-"
    }
   },
   "source": [
    "# TODO:\n",
    "#get average proper motion/ LOS velocity  of whole 30Dor\n",
    "#get average proper motion/ LOS velocity in a region around VFTS682 (~1deg^2?)\n",
    "#get average proper motion/ LOS velocity of R136\n",
    "\n",
    "#make all differences, and check direction.\n",
    "\n",
    "#write paper"
   ]
  },
  {
   "cell_type": "code",
   "execution_count": 1,
   "metadata": {
    "autoscroll": false,
    "collapsed": true,
    "ein.tags": "worksheet-0",
    "slideshow": {
     "slide_type": "-"
    }
   },
   "outputs": [],
   "source": [
    "import numpy as np\n",
    "import math"
   ]
  },
  {
   "cell_type": "code",
   "execution_count": 2,
   "metadata": {
    "autoscroll": false,
    "collapsed": true,
    "ein.tags": "worksheet-0",
    "slideshow": {
     "slide_type": "-"
    }
   },
   "outputs": [],
   "source": [
    "# Load data Gaia DR2 (from Stephen on Slack)\n",
    "# GAIA ID: 4657685637907503744, \n",
    "           \n",
    "mu_ra = 1.8429766110812542  # marsec/yr \n",
    "err_mu_ra = 0.06974150031513375  # marsec/yr\n",
    "\n",
    "mu_dec =  0.7855134899438113  # marsec/yr\n",
    "err_mu_dec = 0.07997805252521194  # masec/yr\n",
    "\n",
    "# Load RV from Bestenlehner et al. 2011 (http://adsabs.harvard.edu/abs/2011A%26A...530L..14B)\n",
    "# from HeII4686\n",
    "rv = 315     # km/s\n",
    "err_rv = 15  # km/s\n",
    "\n",
    "rv_30Dor = 270  # km/s\n",
    "err_rv_30Dor = 10  # km/s\n",
    "\n",
    "# proper motion of the region\n",
    "# mu_ra_30Dor = \n",
    "# mu_dec_30Dor =\n",
    "\n",
    "\n",
    "# peculiar RV\n",
    "drv = rv_30Dor - rv  \n",
    "err_drv = err_rv+err_rv_30Dor\n",
    "\n",
    "# Distance, assumed\n",
    "D = 50e3  # pc\n"
   ]
  },
  {
   "cell_type": "code",
   "execution_count": 7,
   "metadata": {
    "autoscroll": false,
    "collapsed": true,
    "ein.tags": "worksheet-0",
    "slideshow": {
     "slide_type": "-"
    }
   },
   "outputs": [],
   "source": [
    "def convertDpc_to_km(D):\n",
    "    return D*3.086e13\n",
    "\n",
    "def convertyr_to_sec(T):\n",
    "    return T*3.1558149984e7\n",
    "\n",
    "def convertmarcsec_to_rad(alpha):\n",
    "    return alpha*math.pi/(648000000.0)\n",
    "\n",
    "def prop_motion_to_km_s(mu, D):\n",
    "    # D needs to be in parsec\n",
    "    # mu in milliarcsec/yr\n",
    "    return convertDpc_to_km(D)*(mu/convertyr_to_sec(1))*convertmarcsec_to_rad(1)\n"
   ]
  },
  {
   "cell_type": "code",
   "execution_count": 8,
   "metadata": {},
   "outputs": [
    {
     "name": "stdout",
     "output_type": "stream",
     "text": [
      "['DR2Name', 'RA_ICRS', 'e_RA_ICRS', 'DE_ICRS', 'e_DE_ICRS', 'Plx', 'e_Plx', 'pmRA', 'e_pmRA', 'pmDE', 'e_pmDE', 'RV', 'e_RV', 'deg', 'mas', 'deg', 'mas', 'mas', 'mas', 'mas/yr', 'mas/yr', 'mas/yr', 'mas/yr', 'km/s', 'km/s\\n']\n"
     ]
    }
   ],
   "source": [
    "## read data around this star from simbad\n",
    "fname='/home/math/Documents/Mathieu/Research/Projects/vfts682/data/10arcmin_aroundVFTS682.txt'\n",
    "\n",
    "\n",
    "def getFileData(fname):\n",
    "    src = np.genfromtxt(fname,\n",
    "                        comments='#', skip_header=66,\n",
    "                        delimiter='|', filling_values=-99998)\n",
    "    ff = open(fname,'r')\n",
    "    for i,line in enumerate(ff):\n",
    "        if i==65:\n",
    "            # print i\n",
    "            col = line.split('|')\n",
    "            break\n",
    "    ff.close()\n",
    "    # print col\n",
    "    return src, col\n",
    "\n",
    "src, col = getFileData(fname)\n",
    "print col"
   ]
  },
  {
   "cell_type": "code",
   "execution_count": 11,
   "metadata": {},
   "outputs": [
    {
     "name": "stdout",
     "output_type": "stream",
     "text": [
      "1.68438247578\n",
      "1.68438247578\n",
      "201.334125063 399.273026175\n"
     ]
    }
   ],
   "source": [
    "#get aveDEge from file\n",
    "pmRA = src[:, col.index('pmRA')]\n",
    "i_pmRA = pmRA != -99998\n",
    "\n",
    "e_pmRA = src[:, col.index('e_pmRA')]\n",
    "i_e_pmRA = e_pmRA != 99998 \n",
    "\n",
    "pmDE = src[:, col.index('pmDE')]\n",
    "i_pmDE = pmDE != -99998\n",
    "\n",
    "e_pmDE = src[:, col.index('e_pmDE')]\n",
    "i_e_pmDE = e_pmDE != 99998 \n",
    "\n",
    "RA = src[i_pmDE*i_pmRA*i_e_pmRA*i_e_pmDE, col.index('RA_ICRS')]\n",
    "RA = src[i_pmDE*i_pmRA*i_e_pmRA*i_e_pmDE, col.index('DE_ICRS')]\n",
    "\n",
    "\n",
    "pmDE = pmDE[i_pmDE*i_pmRA*i_e_pmRA*i_e_pmDE]\n",
    "pmRA = pmRA[i_pmDE*i_pmRA*i_e_pmRA*i_e_pmDE]\n",
    "e_pmDE = e_pmDE[i_pmDE*i_pmRA*i_e_pmRA*i_e_pmDE]\n",
    "e_pmRA = e_pmRA[i_pmDE*i_pmRA*i_e_pmRA*i_e_pmDE]\n",
    "\n",
    "avg_pmDE = np.sum(pmDE)/len(pmDE)\n",
    "avg_pmR = np.sum(pmRA)/len(pmRA)\n",
    "print avg_pmRA\n",
    "print avg_pmRA\n",
    "avg_vRA_kms = prop_motion_to_km_s(avg_pmRA, D)\n",
    "avg_vDE_kms = prop_motion_to_km_s(avg_pmDE, D)\n",
    "\n",
    "print avg_vDE_kms,avg_vRA_kms"
   ]
  },
  {
   "cell_type": "code",
   "execution_count": null,
   "metadata": {
    "collapsed": true
   },
   "outputs": [],
   "source": []
  },
  {
   "cell_type": "code",
   "execution_count": null,
   "metadata": {
    "autoscroll": false,
    "collapsed": true,
    "ein.tags": "worksheet-0",
    "slideshow": {
     "slide_type": "-"
    }
   },
   "outputs": [],
   "source": [
    "v_ra = prop_motion_to_km_s(mu_ra, D)\n",
    "v_dec = prop_motion_to_km_s(mu_dec, D)\n"
   ]
  },
  {
   "cell_type": "code",
   "execution_count": null,
   "metadata": {},
   "outputs": [],
   "source": [
    "## make the peculiar velocity components\n",
    "dvra = avg_vRA_kms - v_ra\n",
    "dvdec = avg_vDE_kms - v_dec\n",
    "print dvra, dvdec"
   ]
  },
  {
   "cell_type": "code",
   "execution_count": null,
   "metadata": {
    "autoscroll": false,
    "ein.tags": "worksheet-0",
    "slideshow": {
     "slide_type": "-"
    }
   },
   "outputs": [],
   "source": [
    "print math.sqrt(dvra*dvra+dvdec*dvdec+drv*drv)"
   ]
  },
  {
   "cell_type": "code",
   "execution_count": null,
   "metadata": {
    "autoscroll": false,
    "ein.tags": "worksheet-0",
    "slideshow": {
     "slide_type": "-"
    }
   },
   "outputs": [],
   "source": [
    "\n",
    "print \"VFTS682 physical velocity\"\n",
    "print \"v_ra [km/s] = \", v_ra\n",
    "print \"v_dec [km/s] = \", v_dec\n",
    "print \"v_los [km/s] = \", rv\n",
    "print \"|v| [km/s] = \", math.sqrt(rv*rv+v_ra*v_ra+v_dec*v_dec)\n",
    "print \"========================\"\n",
    "\n",
    "\n",
    "# drv, \"This is the peculiar one, not the real physical RV\""
   ]
  }
 ],
 "metadata": {
  "kernelspec": {
   "display_name": "Python 2",
   "language": "python",
   "name": "python2"
  },
  "language_info": {
   "codemirror_mode": {
    "name": "ipython",
    "version": 2
   },
   "file_extension": ".py",
   "mimetype": "text/x-python",
   "name": "python",
   "nbconvert_exporter": "python",
   "pygments_lexer": "ipython2",
   "version": "2.7.14"
  },
  "name": "Untitled.ipynb"
 },
 "nbformat": 4,
 "nbformat_minor": 1
}
