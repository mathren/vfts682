{
 "cells": [
  {
   "cell_type": "markdown",
   "metadata": {
    "ein.tags": "worksheet-0",
    "slideshow": {
     "slide_type": "-"
    }
   },
   "source": [
    "Play with VFTS 682"
   ]
  },
  {
   "cell_type": "markdown",
   "metadata": {
    "ein.tags": "worksheet-0",
    "slideshow": {
     "slide_type": "-"
    }
   },
   "source": [
    "# TODO:\n",
    "get average proper motion/ LOS velocity  of whole 30Dor\n",
    "get average proper motion/ LOS velocity in a region around VFTS682 (~1deg^2?)\n",
    "get average proper motion/ LOS velocity of R136\n",
    "\n",
    "make all differences, and check direction.\n",
    "\n",
    "write paper"
   ]
  },
  {
   "cell_type": "code",
   "execution_count": 2,
   "metadata": {
    "autoscroll": false,
    "collapsed": false,
    "ein.tags": "worksheet-0",
    "slideshow": {
     "slide_type": "-"
    }
   },
   "outputs": [],
   "source": [
    "import numpy as np\n",
    "import math"
   ]
  },
  {
   "cell_type": "code",
   "execution_count": 7,
   "metadata": {
    "autoscroll": false,
    "collapsed": false,
    "ein.tags": "worksheet-0",
    "slideshow": {
     "slide_type": "-"
    }
   },
   "outputs": [],
   "source": [
    "# Load data Gaia DR2 (from Stephen on Slack)\n",
    "# GAIA ID: 4657685637907503744, \n",
    "           \n",
    "mu_ra = 1.8429766110812542  #masec/yr \n",
    "err_mu_ra = 0.06974150031513375  #masec/yr\n",
    "\n",
    "mu_dec =  0.7855134899438113  #masec/yr\n",
    "err_mu_dec = 0.07997805252521194  #masec/yr\n",
    "\n",
    "# Load RV from Bestenlehner et al. 2011\n",
    "# from HeII4686\n",
    "rv = 315     # km/s\n",
    "err_rv = 15  # km/s\n",
    "\n",
    "rv_30Dor = 270  # km/s\n",
    "err_rv_30Dor = 10  # km/s\n",
    "\n",
    "# proper motion of the region\n",
    "mu_ra_30Dor = \n",
    "\n",
    "mu_dec_30Dor =\n",
    "\n",
    "\n",
    "# peculiar RV\n",
    "drv = rv_30Dor - rv  \n",
    "err_drv = err_rv+err_rv_30Dor\n",
    "\n",
    "# Distance, assumed\n",
    "D = 50e3  # pc\n"
   ]
  },
  {
   "cell_type": "code",
   "execution_count": 30,
   "metadata": {
    "autoscroll": false,
    "collapsed": false,
    "ein.tags": "worksheet-0",
    "slideshow": {
     "slide_type": "-"
    }
   },
   "outputs": [],
   "source": [
    "def convertDpc_to_km(D):\n",
    "    return D*3.086e13\n",
    "\n",
    "def convertyr_to_sec(T):\n",
    "    return T*3.1558149984e7\n",
    "\n",
    "def convertmarcsec_to_rad(alpha):\n",
    "    return alpha*math.pi/(648000000.0)\n",
    "\n",
    "def prop_motion_to_km_s(mu, D):\n",
    "    # D needs to be in parsec\n",
    "    # mu in milliarcsec/yr\n",
    "    return convertDpc_to_km(D)*(mu/convertyr_to_sec(1))*convertmarcsec_to_rad(1)\n"
   ]
  },
  {
   "cell_type": "code",
   "execution_count": 31,
   "metadata": {
    "autoscroll": false,
    "collapsed": false,
    "ein.tags": "worksheet-0",
    "slideshow": {
     "slide_type": "-"
    }
   },
   "outputs": [
    {
     "name": "stdout",
     "output_type": "stream",
     "text": [
      "True\n"
     ]
    }
   ],
   "source": [
    "v_ra = convertDpc_to_km(D)*(mu_ra/convertyr_to_sec(1))*convertmarcsec_to_rad(1)\n",
    "# print v_ra == prop_motion_to_km_s(mu_ra, D)\n",
    "v_dec = convertDpc_to_km(D)*(mu_dec/convertyr_to_sec(1))*convertmarcsec_to_rad(1)"
   ]
  },
  {
   "cell_type": "code",
   "execution_count": 29,
   "metadata": {
    "autoscroll": false,
    "collapsed": false,
    "ein.tags": "worksheet-0",
    "slideshow": {
     "slide_type": "-"
    }
   },
   "outputs": [
    {
     "name": "stdout",
     "output_type": "stream",
     "text": [
      "474.893241537\n"
     ]
    }
   ],
   "source": [
    "print math.sqrt(v_ra*v_ra+v_dec*v_dec)"
   ]
  },
  {
   "cell_type": "code",
   "execution_count": 33,
   "metadata": {
    "autoscroll": false,
    "collapsed": false,
    "ein.tags": "worksheet-0",
    "slideshow": {
     "slide_type": "-"
    }
   },
   "outputs": [
    {
     "name": "stdout",
     "output_type": "stream",
     "text": [
      "VFTS682 physical velocity\n",
      "v_ra [km/s] =  436.866839485\n",
      "v_dec [km/s] =  186.201384034\n",
      "v_los [km/s] =  315\n",
      "|v| [km/s] =  569.867169486\n",
      "========================\n"
     ]
    }
   ],
   "source": [
    "\n",
    "print \"VFTS682 physical velocity\"\n",
    "print \"v_ra [km/s] = \", v_ra\n",
    "print \"v_dec [km/s] = \", v_dec\n",
    "print \"v_los [km/s] = \", rv\n",
    "print \"|v| [km/s] = \", math.sqrt(rv*rv+v_ra*v_ra+v_dec*v_dec)\n",
    "print \"========================\"\n",
    "\n",
    "\n",
    "# drv, \"This is the peculiar one, not the real physical RV\""
   ]
  }
 ],
 "metadata": {
  "name": "Untitled.ipynb"
 },
 "nbformat": 4,
 "nbformat_minor": 0
}
