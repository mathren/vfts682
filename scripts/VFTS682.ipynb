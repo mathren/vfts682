{
 "cells": [
  {
   "cell_type": "markdown",
   "metadata": {
    "ein.tags": "worksheet-0",
    "slideshow": {
     "slide_type": "-"
    }
   },
   "source": [
    "Kinematics of  VFTS 682"
   ]
  },
  {
   "cell_type": "code",
   "execution_count": 2,
   "metadata": {
    "autoscroll": false,
    "collapsed": false,
    "ein.tags": "worksheet-0",
    "slideshow": {
     "slide_type": "-"
    }
   },
   "outputs": [],
   "source": [
    "import numpy as np\n",
    "import math\n",
    "import matplotlib.pyplot as plt\n",
    "import matplotlib as mpl\n",
    "%matplotlib inline\n",
    "import sys\n",
    "sys.path.insert(0, '/scratch/mathieu/MMPS/SCRIPTS_dirty/')\n",
    "sys.path.insert(0, '/scratch/mathieu/MMPS/SCRIPTS_dirty/my_script/binaries/binary_c/')\n",
    "import math\n",
    "from matplotlib.ticker import MultipleLocator, FormatStrFormatter, FuncFormatter, MaxNLocator\n",
    "import matplotlib.gridspec as gridspec\n",
    "import matplotlib.patches as mpatch\n",
    "from plot_defaults import *\n",
    "from matplotlib.collections import PatchCollection\n",
    "from mpl_toolkits.axes_grid1.inset_locator import inset_axes, zoomed_inset_axes\n",
    "from mpl_toolkits.axes_grid1.inset_locator import mark_inset\n",
    "import aplpy\n"
   ]
  },
  {
   "cell_type": "code",
   "execution_count": 3,
   "metadata": {
    "autoscroll": false,
    "collapsed": false,
    "ein.tags": "worksheet-0",
    "slideshow": {
     "slide_type": "-"
    }
   },
   "outputs": [],
   "source": [
    "# Load data Gaia DR2 for VFTS682\n",
    "# GAIA ID: 4657685637907503744, retrieved using the Vizier interface\n",
    "\n",
    "mu_ra = 1.8429766110812542  # marcsec/yr \n",
    "err_mu_ra = 0.06974150031513375  # marcsec/yr\n",
    "\n",
    "mu_dec =  0.7855134899438113  # marcsec/yr\n",
    "err_mu_dec = 0.07997805252521194  # marcsec/yr\n",
    "\n",
    "# # Radial velocities from Bestenlehner et al. 2011 (http://adsabs.harvard.edu/abs/2011A%26A...530L..14B)\n",
    "# # from HeII4686\n",
    "# rv = 315     # km/s\n",
    "# err_rv = 15  # km/s\n",
    "# # from NV lines\n",
    "rv = 300 # km/s\n",
    "err_rv = 10 #km/s\n",
    "\n",
    "rv_30Dor = 270  # km/s\n",
    "err_rv_30Dor = 10  # km/s\n",
    "\n",
    "\n",
    "# # peculiar RV\n",
    "drv = rv_30Dor - rv  \n",
    "err_drv = err_rv+err_rv_30Dor\n",
    "\n",
    "# # Distance, assumed\n",
    "D = 50e3  # pc\n",
    "\n",
    "# parallax -- not used\n",
    "parallax = -0.02213454741230581  # note that it is negative!\n",
    "e_parallax = 0.043642011613831244\n",
    "\n",
    "# position on the sky (degrees)\n",
    "RAvfts682   = 84.73136339876477\n",
    "e_RAvfts682 = 0.036321212008208974\n",
    "DEvfts682   = -69.07411071794998\n",
    "e_DEvfts682 = 0.04825647078875183"
   ]
  },
  {
   "cell_type": "code",
   "execution_count": 4,
   "metadata": {
    "autoscroll": false,
    "collapsed": false,
    "ein.tags": "worksheet-0",
    "slideshow": {
     "slide_type": "-"
    }
   },
   "outputs": [],
   "source": [
    "## some functions, most constants come from $MESA_DIR/const/public/const_def.f90\n",
    "def convertDpc_to_km(D):\n",
    "    return D*3.086e13\n",
    "\n",
    "def convertyr_to_sec(T):\n",
    "    return T*3.1558149984e7\n",
    "\n",
    "def convertmarcsec_to_rad(alpha):\n",
    "    return alpha*math.pi/(648000000.0)\n",
    "\n",
    "def prop_motion_to_km_s(mu, D):\n",
    "    # D needs to be in parsec\n",
    "    # mu in milliarcsec/yr\n",
    "    return convertDpc_to_km(D)*(mu/convertyr_to_sec(1))*convertmarcsec_to_rad(1)\n",
    "\n",
    "def remove_systems(array, ind_to_remove):\n",
    "    ind_to_keep = np.array(1-ind_to_remove,dtype=bool)\n",
    "    return array[ind_to_keep]\n",
    "\n",
    "def min_array(array1, array2):\n",
    "    if len(array1) != len(array2):\n",
    "        print \"arrays have different lengths!giving up...\"\n",
    "        return np.nan\n",
    "    else:\n",
    "        array = np.zeros(len(array1))\n",
    "        for i in xrange(len(array1)):\n",
    "            array[i] = min(array1[i], array2[i])\n",
    "        return array\n",
    "\n",
    "## read data files downloaded from vizier\n",
    "# get filename and header\n",
    "def getFileData(fname):\n",
    "    ff = open(fname,'r')\n",
    "    for i,line in enumerate(ff):\n",
    "        if 'DR2Name|' in line:\n",
    "            # print i\n",
    "            col = line.split('|')\n",
    "            break\n",
    "    ff.close()\n",
    "    src = np.genfromtxt(fname, comments='#', delimiter='|', skip_header=i+1)\n",
    "    print col\n",
    "    return src, col\n",
    "\n",
    "# read file\n",
    "def getData(fname):\n",
    "    print \"----------------\"\n",
    "    print fname\n",
    "    print \"----------------\"\n",
    "\n",
    "    src, col = getFileData(fname)\n",
    "    \n",
    "    # proper motion RA\n",
    "    pmRA = src[:, col.index('pmRA')]\n",
    "    # i_pmRA = pmRA >= 1 # # # this removes 4 clear outliers\n",
    "    \n",
    "    e_pmRA = src[:, col.index('e_pmRA')]\n",
    "    \n",
    "    # proper motion DEC\n",
    "    pmDE = src[:, col.index('pmDE')]\n",
    "    # i_pmDE = (pmDE>0.3931)*(pmDE<1) # # # This is used to remove 3 clear outliers\n",
    "    # print min(pmDE[i_pmDE]), max(pmDE[i_pmDE])\n",
    "            \n",
    "    \n",
    "    e_pmDE = src[:, col.index('e_pmDE')]\n",
    "\n",
    "    # parallax\n",
    "    par = src[:, col.index('Plx')]    \n",
    "    e_par = src[:, col.index('e_Plx')]\n",
    "   \n",
    "    # positions\n",
    "    RA = src[:, col.index('RA_ICRS')]\n",
    "    e_RA = src[:, col.index('e_RA_ICRS')]/3.6e6  # note that positions are in degree, but errorbars are in milliarcsec, convert all to degrees\n",
    "    DE = src[:, col.index('DE_ICRS')]\n",
    "    e_DE = src[:, col.index('e_DE_ICRS')]/3.6e6 \n",
    "    \n",
    "    # remove clear outliers\n",
    "    # pmDE = pmDE[i_pmDE]\n",
    "    # pmRA = pmRA[i_pmDE]\n",
    "    # e_pmDE = e_pmDE[i_pmDE]\n",
    "    # e_pmRA = e_pmRA[i_pmDE]\n",
    "    # par = par[i_pmDE]\n",
    "    # e_par = e_par[i_pmDE]\n",
    "    # print \"selection routine is removing\", len(RA)-np.sum(i_pmDE), \"stars\"\n",
    "    \n",
    "    return pmRA, e_pmRA, pmDE, e_pmDE, RA, e_RA, DE, e_DE, par, e_par\n",
    "\n",
    "\n",
    "def getAvg(x,y, e_x, e_y):\n",
    "    # returns the 1/error weighted average\n",
    "    num_x = np.sum(x/(e_x)**2)\n",
    "    den_x = np.sum(1/(e_x)**2)\n",
    "    avg_x = num_x/den_x\n",
    "\n",
    "    # now evaluate the error: standard error propagation with the\n",
    "    Nx = len(x)\n",
    "    err_avg_x = np.sqrt(Nx)/np.sum(1/(e_x)**2)\n",
    "\n",
    "    # repeat for y component\n",
    "    num_y = np.sum(y/(e_y)**2)\n",
    "    den_y = np.sum(1/(e_y)**2)\n",
    "    avg_y =  num_y/den_y\n",
    "\n",
    "    Ny = len(y)\n",
    "    err_avg_y = np.sqrt(Ny)/np.sum(1/(e_y)**2)\n",
    "\n",
    "    return avg_x, err_avg_x, avg_y, err_avg_y\n",
    "\n"
   ]
  },
  {
   "cell_type": "code",
   "execution_count": 5,
   "metadata": {
    "autoscroll": false,
    "collapsed": false,
    "ein.tags": "worksheet-0",
    "slideshow": {
     "slide_type": "-"
    }
   },
   "outputs": [
    {
     "name": "stdout",
     "output_type": "stream",
     "text": [
      "=======================\n",
      "Gaia relative motion\n",
      "RA: 0.102976611081 +/- 0.0797415003151\n",
      "DEC: 0.0855134899438 +/- 0.0999780525252\n",
      "projected 2D: 0.13385342502958308 +/- 0.08856114703240674\n",
      "-----------------------\n",
      "RA: 24.4100040953 +/- 18.9022568214\n",
      "DEC: 20.2704732445 +/- 23.6992133063\n",
      "=======================\n"
     ]
    }
   ],
   "source": [
    "# Gaia Data\n",
    "mu_ra = 1.8429766110812542  # marcsec/yr \n",
    "err_mu_ra = 0.06974150031513375  # marcsec/yr\n",
    "\n",
    "mu_dec =  0.7855134899438113  # marcsec/yr\n",
    "err_mu_dec = 0.07997805252521194  # marcsec/yr\n",
    "\n",
    "## Mean projected motion components from Lennon et al. 2018\n",
    "pmRA_around = 1.74\n",
    "e_pmRA_around = 0.01\n",
    "pmDEC_around = 0.70\n",
    "e_pmDEC_around = 0.02\n",
    "\n",
    "\n",
    "## relative motion Gaia\n",
    "pmRA_gaia = mu_ra - pmRA_around\n",
    "e_pmRA_gaia = err_mu_ra+e_pmRA_around\n",
    "pmDEC_gaia = mu_dec - pmDEC_around\n",
    "e_pmDEC_gaia = err_mu_dec+e_pmDEC_around\n",
    "\n",
    "pm = np.sqrt(pmRA_gaia**2+pmDEC_gaia**2)\n",
    "e_pm = (1./pm)*np.sqrt((pmRA_gaia**2)*(e_pmRA_gaia**2)+(pmDEC_gaia**2)*(e_pmDEC_gaia)**2)\n",
    "\n",
    "\n",
    "\n",
    "\n",
    "print \"=======================\"\n",
    "print \"Gaia relative motion\"\n",
    "print \"RA:\", pmRA_gaia, \"+/-\", e_pmRA_gaia\n",
    "print \"DEC:\", pmDEC_gaia, \"+/-\", e_pmDEC_gaia\n",
    "print \"projected 2D:\", pm, \"+/-\", e_pm\n",
    "\n",
    "print \"-----------------------\"\n",
    "print \"RA:\", prop_motion_to_km_s(pmRA_gaia,D), \"+/-\", prop_motion_to_km_s(e_pmRA_gaia,D)\n",
    "print \"DEC:\", prop_motion_to_km_s(pmDEC_gaia,D), \"+/-\", prop_motion_to_km_s(e_pmDEC_gaia,D)\n",
    "\n",
    "print \"=======================\""
   ]
  },
  {
   "cell_type": "code",
   "execution_count": 6,
   "metadata": {
    "autoscroll": false,
    "collapsed": false,
    "ein.tags": "worksheet-0",
    "slideshow": {
     "slide_type": "-"
    }
   },
   "outputs": [
    {
     "name": "stdout",
     "output_type": "stream",
     "text": [
      "['ID', 'F775', 'pxm', 'pym', 'exm', 'eym', 'F', 'pxa', 'pya', 'n', 'pxu', 'pyu', 'n', 'pxc', 'pyc', 'n', 'exa', 'eya', 'cxa', 'cya', 'qxa', 'qya', 'exu', 'eyu', 'cxu', 'cyu', 'qxu', 'qyu', 'exc', 'eyc', 'cxc', 'cyc', 'qxc', 'qyc', 'V', 'e_V', 'I', 'e_I', 'V-I', 'x', 'y', 'RA', 'Dec', 'VFTS']\n",
      "VFTS682 has ID 682.0 in the VFTS catalog\n",
      "================================================================\n",
      "HST data:\n",
      "based on GO-12499 & 13359 observations with WFC3/UVIS only;\n",
      "based on archival WFPC2 and GO-12499 observations with both\n",
      "cameras, ACS/WFC and WFC3/UVIS. This catalog is described in\n",
      "detail (AJ,2015,150:89, Paper I)\n",
      "================================================================\n",
      "pmRA: 0.01 +/- 0.13 marcsec/yr\n",
      "pmDEC: 0.2 +/- 0.1 marcsec/yr\n",
      "----------------------\n",
      "0.2002498439450079 +/- 0.14973248135438716\n"
     ]
    }
   ],
   "source": [
    "# load HST catalog\n",
    "fname = '/scratch/mathieu/HST_pm_imants.dat'\n",
    "srcHST = np.genfromtxt(fname, skip_header=1)\n",
    "ff = open(fname,'r')\n",
    "for i, line in enumerate(ff):\n",
    "    if i==0:\n",
    "        col = line.split()\n",
    "        print col\n",
    "    # if i==2:\n",
    "    #     print line    \n",
    "    #     print len(line.split()), len(col)\n",
    "        break\n",
    "ff.close()\n",
    "ivfts682 = np.argmin(np.absolute(srcHST[:, col.index(\"VFTS\")]-682))\n",
    "print \"VFTS682 has ID\", srcHST[ivfts682,col.index(\"VFTS\")], \"in the VFTS catalog\"\n",
    "pmRA_HST = -1.0*srcHST[ivfts682,col.index(\"pxm\")] # note the -1 because of the misalignment between Gaia and HST frames\n",
    "e_pmRA_HST = srcHST[ivfts682,col.index(\"exm\")]\n",
    "pmDEC_HST = srcHST[ivfts682, col.index(\"pym\")]\n",
    "e_pmDEC_HST = srcHST[ivfts682,col.index(\"eym\")]\n",
    "## check flag for HST observations\n",
    "flag = srcHST[ivfts682, col.index(\"F\")]\n",
    "if flag == 6:\n",
    "    #means\n",
    "    print \"================================================================\"\n",
    "    print \"HST data:\"\n",
    "    print \"based on GO-12499 & 13359 observations with WFC3/UVIS only;\"\n",
    "    print \"based on archival WFPC2 and GO-12499 observations with both\"\n",
    "    print \"cameras, ACS/WFC and WFC3/UVIS. This catalog is described in\"\n",
    "    print \"detail (AJ,2015,150:89, Paper I)\"\n",
    "    print \"================================================================\"\n",
    "print \"pmRA:\", pmRA_HST, \"+/-\", e_pmRA_HST, \"marcsec/yr\"\n",
    "print \"pmDEC:\", pmDEC_HST, \"+/-\", e_pmDEC_HST, \"marcsec/yr\"\n",
    "print \"----------------------\"\n",
    "\n",
    "pm_HST = np.sqrt(pmRA_HST**2+pmDEC_HST**2)\n",
    "e_pm_HST = (1./pm)*np.sqrt((pmRA_HST**2)*(e_pmRA_HST**2)+(pmDEC_HST**2)*(e_pmDEC_HST)**2)\n",
    "print pm_HST, \"+/-\", e_pm_HST\n"
   ]
  },
  {
   "cell_type": "code",
   "execution_count": 7,
   "metadata": {
    "autoscroll": false,
    "collapsed": false,
    "ein.tags": "worksheet-0",
    "slideshow": {
     "slide_type": "-"
    }
   },
   "outputs": [
    {
     "name": "stdout",
     "output_type": "stream",
     "text": [
      "GAIA:-------------------\n",
      "24.4100040953 18.9022568214\n",
      "20.2704732445 23.6992133063\n",
      "-----------------\n",
      "3D velocity: 43.6662385085534 +/- 20.53022741981076\n",
      "2D velocity: 31.72917246771292 +/- 20.99290255373504\n",
      "-----------------\n",
      "==============================\n",
      "HST:-------------------\n",
      "2.3704415827014085 30.81574057511831\n",
      "47.40883165402818 23.70441582701409\n",
      "-----------------\n",
      "3D velocity: 56.15350667676048 +/- 22.724006169542292\n",
      "2D velocity: 47.46805570167145 +/- 23.72480113500931\n",
      "-----------------\n"
     ]
    }
   ],
   "source": [
    "# 3D relative velocity cf. surroundings\n",
    "def get3Dv(vx,dvx,vy,dvy,vz,dvz):\n",
    "    v = np.sqrt(vx**2+vy**2+vz**2)\n",
    "    dv = (1/v)*np.sqrt((vx*dvx)**2+(vy*dvy)**2+(vz*dvz)**2)\n",
    "    return v, dv\n",
    "\n",
    "print \"GAIA:-------------------\"\n",
    "vra = prop_motion_to_km_s(pmRA_gaia, D)\n",
    "dvra = prop_motion_to_km_s(e_pmRA_gaia, D)\n",
    "print vra, dvra\n",
    "\n",
    "vdec = prop_motion_to_km_s(pmDEC_gaia, D)\n",
    "dvdec = prop_motion_to_km_s(e_pmDEC_gaia, D)\n",
    "print vdec, dvdec\n",
    "\n",
    "vr = drv\n",
    "err = err_drv\n",
    "v, dv = get3Dv(vra,dvra,vdec,dvdec,vr,err)\n",
    "print \"-----------------\"\n",
    "print \"3D velocity:\", v, \"+/-\", dv\n",
    "print \"2D velocity:\", np.sqrt(vra**2+vdec**2) , \"+/-\", (1/np.sqrt(vra**2+vdec**2))*np.sqrt((vra*dvra)**2+(vdec*dvdec)**2)\n",
    "print \"-----------------\"\n",
    "\n",
    "print \"==============================\"\n",
    "\n",
    "print \"HST:-------------------\" \n",
    "vra = prop_motion_to_km_s(pmRA_HST, D)\n",
    "dvra = prop_motion_to_km_s(e_pmRA_HST, D)\n",
    "print vra, dvra\n",
    "\n",
    "vdec = prop_motion_to_km_s(pmDEC_HST, D)\n",
    "dvdec = prop_motion_to_km_s(e_pmDEC_HST, D)\n",
    "print vdec, dvdec\n",
    "\n",
    "vr = drv\n",
    "err = err_drv\n",
    "v, dv = get3Dv(vra,dvra,vdec,dvdec,vr,err)\n",
    "print \"-----------------\"\n",
    "print \"3D velocity:\", v, \"+/-\", dv\n",
    "print \"2D velocity:\", np.sqrt(vra**2+vdec**2) , \"+/-\", (1/np.sqrt(vra**2+vdec**2))*np.sqrt((vra*dvra)**2+(vdec*dvdec)**2)\n",
    "print \"-----------------\"\n"
   ]
  },
  {
   "cell_type": "code",
   "execution_count": null,
   "metadata": {
    "autoscroll": false,
    "collapsed": false,
    "ein.tags": "worksheet-0",
    "slideshow": {
     "slide_type": "-"
    }
   },
   "outputs": [
    {
     "name": "stdout",
     "output_type": "stream",
     "text": [
      "INFO: Auto-setting vmin to -2.286e+00 [aplpy.core]\n",
      "INFO: Auto-setting vmax to  2.479e+01 [aplpy.core]\n"
     ]
    },
    {
     "name": "stderr",
     "output_type": "stream",
     "text": [
      "Traceback (most recent call last):\n",
      "  File \"/scratch/mathieu/anaconda2/lib/python2.7/logging/__init__.py\", line 874, in emit\n",
      "    stream.write(fs % msg)\n",
      "IOError: [Errno 32] Broken pipe\n",
      "Logged from file core.py, line 676\n",
      "Traceback (most recent call last):\n",
      "  File \"/scratch/mathieu/anaconda2/lib/python2.7/logging/__init__.py\", line 874, in emit\n",
      "    stream.write(fs % msg)\n",
      "IOError: [Errno 32] Broken pipe\n",
      "Logged from file core.py, line 681\n"
     ]
    }
   ],
   "source": [
    "root = '/scratch/mathieu/MMPS/SCRIPTS_dirty/my_script/binaries/binary_c/30Dor/vfts682/figures/ESO_field/'\n",
    "fitsFileV  = root+'ADP_WFI_30DOR1_V89_V1.0.fits'\n",
    "\n",
    "#### orange: '#FFA700'\n",
    "\n",
    "\n",
    "ffig = aplpy.FITSFigure(fitsFileV, figsize=(15,15))#, downsample=300) ###remove downsample=300 for final plot\n",
    "ffig.show_grayscale(aspect='equal') #possible arg: aspect='auto'\n",
    "\n",
    "ffig.set_theme('publication')\n",
    "ffig.ticks.set_linewidth(2)\n",
    "ffig.ticks.set_length(12)\n",
    "\n",
    "\n",
    "# #cut image on relevant part\n",
    "# x axis\n",
    "xmin, xmax = ffig._ax1.get_xlim()\n",
    "ffig._ax1.set_xlim(3*xmax/4.0+237.2+50, xmax-1037.2-50)\n",
    "xmin1, xmax1 = ffig._ax1.get_xlim()\n",
    "print \"DX\", xmax1-xmin1\n",
    "\n",
    "# y axis\n",
    "ymin, ymax = ffig._ax1.get_ylim()\n",
    "ffig._ax1.set_ylim(ymax/2.0+300+25, ymax/2+ymax/4-975-62)\n",
    "ymin1, ymax1 = ffig._ax1.get_ylim()\n",
    "print \"DY\", ymax1-ymin1\n",
    "\n",
    "# ffig._ax1.set_xlim(4500.5, 7000.5) #cut image on y-direction\n",
    "ffig.tick_labels.set_xformat('hh:mm:ss')\n",
    "ffig.tick_labels.set_yformat('dd:mm')\n",
    "\n",
    "#labels\n",
    "ffig.add_label(0.6, 0.08, 'R136 core', relative=True, color=\"c\", size=30)\n",
    "# ffig.show_markers(RA_around, DE_around, edgecolor='b', lw=2)\n",
    "ffig.show_markers(RAvfts682, DEvfts682, edgecolor='r', layer='vfts682', lw=2)\n",
    "ffig.add_label(RAvfts682-0.015, DEvfts682-0.001, 'VFTS 682', relative=False, color=\"r\", size=30)\n",
    "ffig.show_circles(84.68, -69.105, 0.01, color=\"c\", linewidth=2, linestyle='--')\n",
    "\n",
    "# to scale arrows\n",
    "len_factor = 0.05\n",
    "kin_age = 0.9*10**6\n",
    "#len_factor = kin_age\n",
    "# lifetime_factor = 0.85*1e6 ## kinematic age in years\n",
    "\n",
    "# best value Gaia only\n",
    "ffig.show_arrows(RAvfts682, DEvfts682, len_factor*pmRA_gaia, len_factor*pmDEC_gaia, color='r', width=5, lw=2,head_length=25, head_width=25)\n",
    "# best value HST only\n",
    "# ffig.show_arrows(RAvfts682, DEvfts682, len_factor*pmRA_HST, len_factor*pmDEC_HST, color='g', width=5, lw=2,head_length=25, head_width=25)\n",
    "# prolungation\n",
    "ffig.show_arrows(RAvfts682, DEvfts682, -len_factor*pmRA_gaia, -len_factor*pmDEC_gaia, color='r', width=0, lw=3, head_length=0, head_width=0, linestyle='--')\n",
    "\n",
    "# print -len_factor*kin_age*pmRA_gaia, -len_factor*kin_age*pmDEC_gaia\n",
    "\n",
    "\n",
    "\n",
    "# # error-cone (Gaia only)\n",
    "ffig.show_arrows(RAvfts682, DEvfts682, len_factor*(pmRA_gaia-e_pmRA_gaia), len_factor*(pmDEC_gaia+e_pmDEC_gaia), color='c',head_length=25, head_width=25, width=3,  lw=2)\n",
    "ffig.show_arrows(RAvfts682, DEvfts682, len_factor*(pmRA_gaia+e_pmRA_gaia), len_factor*(pmDEC_gaia-e_pmDEC_gaia), color='c',head_length=25, head_width=25, width=3,  lw=2)\n",
    "# show prolungations in opposite direction\n",
    "ffig.show_arrows(RAvfts682, DEvfts682, -len_factor*(pmRA_gaia-e_pmRA_gaia), -len_factor*(pmDEC_gaia+e_pmDEC_gaia), color='c', head_length=0, head_width=0, width=0, lw=3, linestyle='--')\n",
    "ffig.show_arrows(RAvfts682, DEvfts682, -len_factor*(pmRA_gaia+e_pmRA_gaia), -len_factor*(pmDEC_gaia-e_pmDEC_gaia), color='c', head_length=0, head_width=0, width=0, lw=3, linestyle='--')\n",
    "\n",
    "ffig.savefig(root+'/../main_plot_good.pdf', dpi=300)\n",
    "# ffig.savefig(root+'/../main_plot_good.png')"
   ]
  },
  {
   "cell_type": "markdown",
   "metadata": {
    "ein.tags": "worksheet-0",
    "slideshow": {
     "slide_type": "-"
    }
   },
   "source": [
    "===================================================\n",
    "===================================================\n",
    "===================================================\n",
    "==================================================="
   ]
  },
  {
   "cell_type": "code",
   "execution_count": 8,
   "metadata": {
    "autoscroll": false,
    "collapsed": false,
    "ein.tags": "worksheet-0",
    "slideshow": {
     "slide_type": "-"
    }
   },
   "outputs": [
    {
     "name": "stdout",
     "output_type": "stream",
     "text": [
      "-----------------\n",
      "Averaged HST and Gaia data \n",
      "-----------------\n",
      "pmRA: 0.09444898280825563 +/- 0.005374575097774452\n",
      "pmDEC: 0.13121574689784496 +/- 0.005543385084977828\n"
     ]
    }
   ],
   "source": [
    "## average of both measures\n",
    "print \"-----------------\"\n",
    "print \"Averaged HST and Gaia data \"\n",
    "print \"-----------------\"\n",
    "\n",
    "# These are weighted averages according to Eq.1 where the number of observations is N=2 (HST+Gaia) \n",
    "\n",
    "pmRA_avg = (pmRA_HST/(e_pmRA_HST**2)+pmRA_gaia/(e_pmRA_gaia**2))/(1.0/(e_pmRA_HST**2)+1.0/(e_pmRA_gaia**2))\n",
    "e_pmRA_avg = np.sqrt(2)/((1.0/(e_pmRA_HST**2)+1.0/(e_pmRA_gaia**2)))\n",
    "\n",
    "pmDEC_avg = (pmDEC_HST/(e_pmDEC_HST**2)+pmDEC_gaia/(e_pmDEC_gaia**2))/(1/(e_pmDEC_HST**2)+1/(e_pmDEC_gaia**2))\n",
    "e_pmDEC_avg = np.sqrt(2)/((1.0/(e_pmDEC_HST**2)+1.0/(e_pmDEC_gaia**2)))\n",
    "\n",
    "\n",
    "print \"pmRA:\", pmRA_avg, \"+/-\", e_pmRA_avg\n",
    "print \"pmDEC:\", pmDEC_avg, \"+/-\", e_pmDEC_avg\n"
   ]
  },
  {
   "cell_type": "code",
   "execution_count": 6,
   "metadata": {
    "autoscroll": false,
    "collapsed": false,
    "ein.tags": "worksheet-0",
    "slideshow": {
     "slide_type": "-"
    }
   },
   "outputs": [
    {
     "name": "stdout",
     "output_type": "stream",
     "text": [
      "----------------\n",
      "/scratch/mathieu/MMPS/SCRIPTS_dirty/my_script/binaries/binary_c/30Dor/vfts682/data/asu.tsv\n",
      "----------------\n",
      "['DR2Name', 'RA_ICRS', 'e_RA_ICRS', 'DE_ICRS', 'e_DE_ICRS', 'Source', 'Plx', 'e_Plx', 'pmRA', 'e_pmRA', 'pmDE', 'e_pmDE', 'epsi', 'Gmag', 'e_Gmag', 'RV', 'e_RV\\n']\n",
      "# stars surroundings: 66\n"
     ]
    },
    {
     "data": {
      "text/plain": [
       "<matplotlib.collections.PathCollection at 0x7f03565c4c10>"
      ]
     },
     "execution_count": 6,
     "metadata": {},
     "output_type": "execute_result"
    },
    {
     "data": {
      "image/png": "[encoded data removed]",
      "text/plain": [
       "<matplotlib.figure.Figure at 0x7f03566ee050>"
      ]
     },
     "metadata": {},
     "output_type": "display_data"
    }
   ],
   "source": [
    "# plot the surrounding regions in proper motion space\n",
    "fig = plt.figure(figsize=(10., 10.))\n",
    "gs = gridspec.GridSpec(100,100) \n",
    "ax = plt.subplot(gs[:,:])\n",
    "## fname_around='/scratch/mathieu/MMPS/SCRIPTS_dirty/my_script/binaries/binary_c/30Dor/vfts682/data/asu.tsv'\n",
    "pmRA_around, e_pmRA_around, pmDE_around, e_pmDE_around, RA_around, e_RA_around, DE_around, e_DE_around, par_around, e_par_around = getData(fname_around) \n",
    "avg_pmRA_around, err_avg_pmRA_around, avg_pmDE_around, err_avg_pmDE_around= getAvg(pmRA_around,pmDE_around, e_pmRA_around, e_pmDE_around) # weighted with 1/error^2\n",
    "\n",
    "print \"# stars surroundings:\", len(pmRA_around)\n",
    "\n",
    "# plot relative to region\n",
    "ax.errorbar(pmRA_around-avg_pmRA_around, pmDE_around-avg_pmDE_around, xerr=e_pmRA_around+err_avg_pmRA_around, yerr=e_pmDE_around+avg_pmDE_around, ms=10, lw=0, ecolor='b', elinewidth=2)\n",
    "# plot measurements\n",
    "# ax.errorbar(pmRA_around, pmDE_around, xerr=e_pmRA_around, yerr=e_pmDE_around, ms=10, lw=0, ecolor='b', elinewidth=2)\n",
    "# ax.errorbar(avg_pmRA_around, avg_pmDE_around, xerr=err_avg_pmRA_around, yerr=err_avg_pmDE_around, color='r', markersize=1000)\n",
    "ax.set_xlabel(\"$\\mu_\\mathrm{RA}$ [marcsec/yr]\", fontsize=30)\n",
    "ax.set_ylabel(\"$\\mu_\\mathrm{DE}$ [marcsec/yr]\", fontsize=30)\n",
    "ax.set_title(\"Generic surroundings\", fontsize=30)\n",
    "ax.text(0.5,0.1,\"$0.1\\,\\mathrm{marcsec\\ yr^{-1}}=25\\,\\mathrm{km\\ s^{-1}}$ at 50\\,kpc\", fontsize=20, transform=ax.transAxes, ha=\"center\")\n",
    "\n",
    "ax.scatter(mu_ra-avg_pmRA_around, mu_dec-avg_pmDE_around, marker='*', c='y', s=100)\n",
    "\n"
   ]
  }
 ],
 "metadata": {
  "kernelspec": {
   "display_name": "Python 2",
   "name": "python2"
  },
  "language_info": {
   "codemirror_mode": {
    "name": "ipython",
    "version": 2
   },
   "file_extension": ".py",
   "mimetype": "text/x-python",
   "name": "python",
   "nbconvert_exporter": "python",
   "pygments_lexer": "ipython2",
   "version": "2.7.14"
  },
  "name": "VFTS682.ipynb"
 },
 "nbformat": 4,
 "nbformat_minor": 2
}
