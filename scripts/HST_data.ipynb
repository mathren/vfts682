{
 "cells": [
  {
   "cell_type": "markdown",
   "metadata": {
    "ein.tags": "worksheet-0",
    "slideshow": {
     "slide_type": "-"
    }
   },
   "source": [
    "Retrieve the data for HST proper motions of VFTS682.ipynb\n",
    "This uses the HST catalog cross matched with VFTS by Platais et al. 2018\n",
    "http://adsabs.harvard.edu/abs/2018arXiv180408678P"
   ]
  },
  {
   "cell_type": "code",
   "execution_count": 2,
   "metadata": {
    "autoscroll": false,
    "collapsed": false,
    "ein.tags": "worksheet-0",
    "slideshow": {
     "slide_type": "-"
    }
   },
   "outputs": [],
   "source": [
    "import numpy as np\n",
    "import matplotlib.pyplot as plt\n",
    "import matplotlib as mpl\n",
    "%matplotlib inline\n",
    "from matplotlib.ticker import MultipleLocator, FormatStrFormatter, FuncFormatter, MaxNLocator\n",
    "import matplotlib.gridspec as gridspec\n",
    "import matplotlib.patches as mpatch\n",
    "from plot_defaults import *\n",
    "from matplotlib.collections import PatchCollection\n",
    "from mpl_toolkits.axes_grid1.inset_locator import inset_axes, zoomed_inset_axes\n",
    "from mpl_toolkits.axes_grid1.inset_locator import mark_inset\n"
   ]
  },
  {
   "cell_type": "code",
   "execution_count": 16,
   "metadata": {
    "autoscroll": false,
    "collapsed": false,
    "ein.tags": "worksheet-0",
    "slideshow": {
     "slide_type": "-"
    }
   },
   "outputs": [
    {
     "name": "stdout",
     "output_type": "stream",
     "text": [
      "['ID', 'F775', 'pxm', 'pym', 'exm', 'eym', 'F', 'pxa', 'pya', 'n', 'pxu', 'pyu', 'n', 'pxc', 'pyc', 'n', 'exa', 'eya', 'cxa', 'cya', 'qxa', 'qya', 'exu', 'eyu', 'cxu', 'cyu', 'qxu', 'qyu', 'exc', 'eyc', 'cxc', 'cyc', 'qxc', 'qyc', 'V', 'e_V', 'I', 'e_I', 'V-I', 'x', 'y', 'RA', 'Dec', 'VFTS']\n"
     ]
    }
   ],
   "source": [
    "# load catalog\n",
    "fname = '/scratch/mathieu/HST_pm_imants.dat'\n",
    "src = np.genfromtxt(fname, skip_header=1)\n",
    "ff = open(fname,'r')\n",
    "for i, line in enumerate(ff):\n",
    "    if i==0:\n",
    "        col = line.split()\n",
    "        print col\n",
    "    # if i==2:\n",
    "    #     print line    \n",
    "    #     print len(line.split()), len(col)\n",
    "        break\n",
    "ff.close()\n",
    "\n"
   ]
  },
  {
   "cell_type": "code",
   "execution_count": 18,
   "metadata": {
    "autoscroll": false,
    "collapsed": false,
    "ein.tags": "worksheet-0",
    "slideshow": {
     "slide_type": "-"
    }
   },
   "outputs": [
    {
     "name": "stdout",
     "output_type": "stream",
     "text": [
      "VFTS682 has ID 682.0 in the VFTS catalog\n"
     ]
    }
   ],
   "source": [
    "ivfts682 = np.argmin(np.absolute(src[:, col.index(\"VFTS\")]-682))\n",
    "print \"VFTS682 has ID\", src[ivfts682,col.index(\"VFTS\")], \"in the VFTS catalog\""
   ]
  },
  {
   "cell_type": "code",
   "execution_count": 22,
   "metadata": {
    "autoscroll": false,
    "collapsed": false,
    "ein.tags": "worksheet-0",
    "slideshow": {
     "slide_type": "-"
    }
   },
   "outputs": [
    {
     "name": "stdout",
     "output_type": "stream",
     "text": [
      "================================================================\n",
      "HST data:\n",
      "based on GO-12499 & 13359 observations with WFC3/UVIS only;\n",
      "based on archival WFPC2 and GO-12499 observations with both\n",
      "cameras, ACS/WFC and WFC3/UVIS. This catalog is described in\n",
      "detail (AJ,2015,150:89, Paper I)\n",
      "================================================================\n",
      "pmRA: 0.01 +/- 0.13 marcsec/yr\n",
      "pmDEC: 0.2 +/- 0.1 marcsec/yr\n",
      "----------------------\n",
      "================================================================\n",
      "Gaia (DR2):\n",
      "================================================================\n",
      "pmRA: 1.84297661108 +/- 0.0697415003151 marcsec/yr\n",
      "pmDEC: 0.785513489944 +/- 0.0799780525252 marcsec/yr\n",
      "----------------------\n"
     ]
    }
   ],
   "source": [
    "## now get the HST proper motions for VFTS682\n",
    "pmRA_HST = -1.0*src[ivfts682,col.index(\"pxm\")] # note the -1 because of the misalignment between Gaia and HST frames\n",
    "e_pmRA_HST = src[ivfts682,col.index(\"exm\")]\n",
    "pmDEC_HST = src[ivfts682, col.index(\"pym\")]\n",
    "e_pmDEC_HST = src[ivfts682,col.index(\"eym\")]\n",
    "## check flag for HST observations\n",
    "flag = src[ivfts682, col.index(\"F\")]\n",
    "if flag == 6:\n",
    "    #means\n",
    "    print \"================================================================\"\n",
    "    print \"HST data:\"\n",
    "    print \"based on GO-12499 & 13359 observations with WFC3/UVIS only;\"\n",
    "    print \"based on archival WFPC2 and GO-12499 observations with both\"\n",
    "    print \"cameras, ACS/WFC and WFC3/UVIS. This catalog is described in\"\n",
    "    print \"detail (AJ,2015,150:89, Paper I)\"\n",
    "    print \"================================================================\"\n",
    "print \"pmRA:\", pmRA_HST, \"+/-\", e_pmRA_HST, \"marcsec/yr\"\n",
    "print \"pmDEC:\", pmDEC_HST, \"+/-\", e_pmDEC_HST, \"marcsec/yr\"\n",
    "print \"----------------------\"\n",
    "\n",
    "\n",
    "    \n",
    "# Gaia data\n",
    "pmRA_gaia = 1.8429766110812542  # marcsec/yr \n",
    "e_pmRA_gaia = 0.06974150031513375  # marcsec/yr\n",
    "\n",
    "pmDEC_gaia =  0.7855134899438113  # marcsec/yr\n",
    "e_pmDEC_gaia = 0.07997805252521194  # marcsec/yr\n",
    "\n",
    "print \"================================================================\"\n",
    "print \"Gaia (DR2):\"\n",
    "print \"================================================================\"\n",
    "print \"pmRA:\", pmRA_gaia, \"+/-\", e_pmRA_gaia, \"marcsec/yr\"\n",
    "print \"pmDEC:\", pmDEC_gaia, \"+/-\", e_pmDEC_gaia, \"marcsec/yr\"\n",
    "print \"----------------------\"\n",
    "\n"
   ]
  },
  {
   "cell_type": "code",
   "execution_count": 24,
   "metadata": {
    "autoscroll": false,
    "collapsed": false,
    "ein.tags": "worksheet-0",
    "slideshow": {
     "slide_type": "-"
    }
   },
   "outputs": [
    {
     "name": "stdout",
     "output_type": "stream",
     "text": [
      "-----------------\n",
      "Averaged HST and Gaia data \n",
      "-----------------\n",
      "pmRA: 1.433335783312287\n",
      "pmDEC: 0.5570968724002533\n"
     ]
    }
   ],
   "source": [
    "## average of both measures\n",
    "print \"-----------------\"\n",
    "print \"Averaged HST and Gaia data \"\n",
    "print \"-----------------\"\n",
    "\n",
    "pmRA_avg = (pmRA_HST/(e_pmRA_HST**2)+pmRA_gaia/(e_pmRA_gaia**2))/(1/(e_pmRA_HST**2)+1/(e_pmRA_gaia**2))\n",
    "pmDEC_avg = (pmDEC_HST/(e_pmDEC_HST**2)+pmDEC_gaia/(e_pmDEC_gaia**2))/(1/(e_pmDEC_HST**2)+1/(e_pmDEC_gaia**2))\n",
    "print \"pmRA:\", pmRA_avg\n",
    "print \"pmDEC:\", pmDEC_avg"
   ]
  }
 ],
 "metadata": {
  "name": "HST_data.ipynb"
 },
 "nbformat": 4,
 "nbformat_minor": 0
}
