Jupyter v4 Notebook list (http://127.0.0.1:8888)

 | [Home] | [my_script] | [binaries] | [binary_c] | [30Dor] | [vfts682] | [scripts] |

[New Notebook] [Reload List] [Open In Browser]

Create New Notebooks Using Kernel: 
( ) Python 2

 [Open] [Stop] [Delete] : angles.ipynb
 [Open] [Delete] : check_X_rays.ipynb
 [Open] [Stop] [Delete] : create_figure.ipynb
 [Open] [Delete] : Untitled.ipynb
 [Open] [Stop] [Delete] : VFTS682.ipynb

---------- All Opened Notebooks ----------

[Open][Close] : *ein: http://127.0.0.1:8888/Untitled.ipynb*
[Open][Close] : *ein: http://127.0.0.1:8888/create_figure.ipynb*
[Open][Close] : *ein: http://127.0.0.1:8888/angles.ipynb*
