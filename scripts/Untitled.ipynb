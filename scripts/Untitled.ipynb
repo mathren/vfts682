{
 "cells": [
  {
   "cell_type": "code",
   "execution_count": null,
   "metadata": {
    "collapsed": true
   },
   "outputs": [],
   "source": [
    "# read data around VFTS682"
   ]
  },
  {
   "cell_type": "code",
   "execution_count": 1,
   "metadata": {
    "collapsed": true
   },
   "outputs": [],
   "source": [
    "import numpy as np"
   ]
  },
  {
   "cell_type": "code",
   "execution_count": 43,
   "metadata": {},
   "outputs": [
    {
     "ename": "IndentationError",
     "evalue": "expected an indented block (<ipython-input-43-321bcad24b17>, line 3)",
     "output_type": "error",
     "traceback": [
      "\u001b[0;36m  File \u001b[0;32m\"<ipython-input-43-321bcad24b17>\"\u001b[0;36m, line \u001b[0;32m3\u001b[0m\n\u001b[0;31m    src = np.genfromtxt(fname,\u001b[0m\n\u001b[0m      ^\u001b[0m\n\u001b[0;31mIndentationError\u001b[0m\u001b[0;31m:\u001b[0m expected an indented block\n"
     ]
    }
   ],
   "source": [
    "fname='/home/math/Documents/Mathieu/Research/Projects/vfts682/data/10arcmin_aroundVFTS682.txt'\n",
    "\n",
    "\n",
    "def getFileData(fname):\n",
    "    src = np.genfromtxt(fname,\n",
    "                        comments='#',skip_header=66,\n",
    "                        delimiter='|', filling_values=np.nan)\n",
    "    ff = open(fname,'r')\n",
    "    for i,line in enumerate(ff):\n",
    "        if i==65:\n",
    "            # print i\n",
    "            col = line.split('|')\n",
    "            break\n",
    "    ff.close()\n",
    "    # print col\n",
    "    return src, col"
   ]
  },
  {
   "cell_type": "code",
   "execution_count": 42,
   "metadata": {},
   "outputs": [
    {
     "name": "stdout",
     "output_type": "stream",
     "text": [
      "[ 85.04067141  85.04065686  85.04379758 ...,  84.7962553   84.70631135\n",
      "  84.69713673]\n"
     ]
    }
   ],
   "source": [
    "\n"
   ]
  },
  {
   "cell_type": "code",
   "execution_count": null,
   "metadata": {
    "collapsed": true
   },
   "outputs": [],
   "source": []
  }
 ],
 "metadata": {
  "kernelspec": {
   "display_name": "Python 2",
   "language": "python",
   "name": "python2"
  },
  "language_info": {
   "codemirror_mode": {
    "name": "ipython",
    "version": 2
   },
   "file_extension": ".py",
   "mimetype": "text/x-python",
   "name": "python",
   "nbconvert_exporter": "python",
   "pygments_lexer": "ipython2",
   "version": "2.7.14"
  }
 },
 "nbformat": 4,
 "nbformat_minor": 2
}
